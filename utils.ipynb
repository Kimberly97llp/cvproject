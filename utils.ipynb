{
 "cells": [
  {
   "cell_type": "code",
   "execution_count": null,
   "id": "cd040fe7-1b10-4336-b376-3fd9d1d34a2c",
   "metadata": {},
   "outputs": [],
   "source": [
    "import SimpleITK as sitk\n",
    "import numpy as np\n",
    "import tensorflow as tf\n",
    "import math"
   ]
  },
  {
   "cell_type": "code",
   "execution_count": null,
   "id": "592dd410-f1f8-421e-96a8-1a7315ac9512",
   "metadata": {},
   "outputs": [],
   "source": [
    "def forresnet(image_sample):\n",
    "    \"\"\"\n",
    "    Preprocess the image for ResNet-50 model\n",
    "    \n",
    "    \"\"\"\n",
    "    # Assuming images[0] is a SimpleITK image\n",
    "    image_sitk = image_sample\n",
    "\n",
    "\n",
    "    # # Selecting a single slice (e.g., the first slice)\n",
    "    # single_slice = image_sitk[0, :, :]\n",
    "\n",
    "    # Convert SimpleITK image to numpy array\n",
    "    image_array = sitk.GetArrayFromImage(image_sitk)  #single_slice\n",
    "    middle_slice_index = math.floor(image_array.shape[0] / 2)\n",
    "    image_array = image_array[middle_slice_index, :, :]\n",
    "    print(\"Original shape:\", image_array.shape)  # (23, 384)\n",
    "\n",
    "    # Reshape to add an extra dimension\n",
    "    image_array = np.expand_dims(image_array, axis=-1)\n",
    "    print(\"Shape after adding dimension:\", image_array.shape)  # (23, 384, 1)\n",
    "\n",
    "    # Resize the image to (224, 224)\n",
    "    image_array = tf.image.resize(image_array, (224, 224))\n",
    "    print(\"Resized shape:\", image_array.shape)  # (224, 224, 1)\n",
    "\n",
    "    # Remove the extra dimension\n",
    "    image_array = tf.squeeze(image_array, axis=-1)\n",
    "    print(\"Shape after squeezing:\", image_array.shape)  # (224, 224)\n",
    "\n",
    "    # Stack to create a 3-channel image\n",
    "    image_array = tf.stack([image_array] * 3, axis=-1)\n",
    "    print(\"Shape after stacking:\", image_array.shape)  # (224, 224, 3)\n",
    "\n",
    "    # Normalize the image\n",
    "    image_array = image_array / 255.0\n",
    "    print(\"Shape after normalization:\", image_array.shape)\n",
    "\n",
    "    # # Add batch dimension\n",
    "    # image_array = tf.expand_dims(image_array, axis=0)\n",
    "    # print(\"Final shape with batch dimension:\", image_array.shape)\n",
    "\n",
    "    return image_array"
   ]
  }
 ],
 "metadata": {
  "kernelspec": {
   "display_name": "Python 3 (ipykernel)",
   "language": "python",
   "name": "python3"
  },
  "language_info": {
   "codemirror_mode": {
    "name": "ipython",
    "version": 3
   },
   "file_extension": ".py",
   "mimetype": "text/x-python",
   "name": "python",
   "nbconvert_exporter": "python",
   "pygments_lexer": "ipython3",
   "version": "3.10.9"
  }
 },
 "nbformat": 4,
 "nbformat_minor": 5
}
