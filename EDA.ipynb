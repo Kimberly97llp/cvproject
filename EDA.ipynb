{
 "cells": [
  {
   "cell_type": "code",
   "execution_count": 14,
   "id": "07f7b48f-4fac-43c2-afb1-2302f12df148",
   "metadata": {
    "tags": []
   },
   "outputs": [],
   "source": [
    "import SimpleITK as sitk\n",
    "import numpy as np\n",
    "from scipy import ndimage\n",
    "import math\n",
    "import cv2\n",
    "import random\n",
    "import sys\n",
    "import math\n",
    "import requests\n",
    "import matplotlib.pyplot as plt\n",
    "import tensorflow as tf\n",
    "import os\n",
    "import nibabel as nib\n",
    "from collections import Counter\n",
    "import seaborn as sns\n",
    "import matplotlib.pyplot as plt\n",
    "import pandas as pd\n",
    "\n",
    "from sklearn.model_selection import train_test_split\n",
    "from torchvision import datasets, models, transforms\n",
    "import tensorflow as tf\n",
    "from tensorflow.keras.applications import ResNet50\n",
    "from tensorflow.keras.layers import Dense, GlobalAveragePooling2D\n",
    "from tensorflow.keras.models import Model\n",
    "\n",
    "from sklearn.metrics import confusion_matrix"
   ]
  },
  {
   "cell_type": "markdown",
   "id": "cbcd2af1-a139-43ba-a45b-9f17d34ff6f7",
   "metadata": {
    "tags": []
   },
   "source": [
    "# Tabular Data"
   ]
  },
  {
   "cell_type": "code",
   "execution_count": 16,
   "id": "0a1eae16-b4fd-4f54-96cb-0bb30062f6a9",
   "metadata": {
    "tags": []
   },
   "outputs": [],
   "source": [
    "# df_path = \"../marksheet.csv\"\n",
    "df_path =  \"../data/marksheet.csv\""
   ]
  },
  {
   "cell_type": "code",
   "execution_count": 17,
   "id": "b33d4cea-8e64-4678-88d3-1bb3c692ea05",
   "metadata": {
    "tags": []
   },
   "outputs": [],
   "source": [
    "df = pd.read_csv(df_path)"
   ]
  },
  {
   "cell_type": "code",
   "execution_count": null,
   "id": "07c9d809-9e3c-48f1-aa7a-f71d405069d2",
   "metadata": {},
   "outputs": [],
   "source": []
  }
 ],
 "metadata": {
  "kernelspec": {
   "display_name": "Python 3 (ipykernel)",
   "language": "python",
   "name": "python3"
  },
  "language_info": {
   "codemirror_mode": {
    "name": "ipython",
    "version": 3
   },
   "file_extension": ".py",
   "mimetype": "text/x-python",
   "name": "python",
   "nbconvert_exporter": "python",
   "pygments_lexer": "ipython3",
   "version": "3.10.9"
  }
 },
 "nbformat": 4,
 "nbformat_minor": 5
}
